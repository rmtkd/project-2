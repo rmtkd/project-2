{
 "cells": [
  {
   "cell_type": "markdown",
   "metadata": {},
   "source": [
    "# ML Pipeline Preparation\n",
    "Follow the instructions below to help you create your ML pipeline.\n",
    "### 1. Import libraries and load data from database.\n",
    "- Import Python libraries\n",
    "- Load dataset from database with [`read_sql_table`](https://pandas.pydata.org/pandas-docs/stable/generated/pandas.read_sql_table.html)\n",
    "- Define feature and target variables X and Y"
   ]
  },
  {
   "cell_type": "code",
   "execution_count": 1,
   "metadata": {},
   "outputs": [
    {
     "name": "stdout",
     "output_type": "stream",
     "text": [
      "[nltk_data] Downloading package punkt to /root/nltk_data...\n",
      "[nltk_data]   Unzipping tokenizers/punkt.zip.\n",
      "[nltk_data] Downloading package wordnet to /root/nltk_data...\n",
      "[nltk_data]   Unzipping corpora/wordnet.zip.\n"
     ]
    }
   ],
   "source": [
    "# import libraries\n",
    "import sqlalchemy\n",
    "from sqlalchemy import create_engine\n",
    "\n",
    "import nltk\n",
    "nltk.download(['punkt','wordnet'])\n",
    "from nltk.tokenize import word_tokenize\n",
    "from nltk.stem import WordNetLemmatizer\n",
    "\n",
    "import re\n",
    "import numpy as np\n",
    "import pandas as pd\n",
    "\n",
    "import pickle\n",
    "\n",
    "from sklearn.pipeline import Pipeline\n",
    "from sklearn.metrics import confusion_matrix\n",
    "from sklearn.model_selection import GridSearchCV\n",
    "from sklearn.ensemble import RandomForestClassifier \n",
    "from sklearn.model_selection import train_test_split\n",
    "from sklearn.pipeline import Pipeline, FeatureUnion\n",
    "from sklearn.base import BaseEstimator, TransformerMixin\n",
    "from sklearn.feature_extraction.text import CountVectorizer, TfidfTransformer\n",
    "from sklearn.multioutput import MultiOutputClassifier\n",
    "from sklearn.metrics import f1_score\n",
    "from sklearn.metrics import precision_score\n",
    "from sklearn.metrics import recall_score\n",
    "from sklearn.metrics import classification_report"
   ]
  },
  {
   "cell_type": "code",
   "execution_count": 2,
   "metadata": {},
   "outputs": [],
   "source": [
    "# load data from database\n",
    "# engine = create_engine('sqlite:///InsertDatabaseName.db')\n",
    "engine = create_engine('sqlite:///disaster_response.db')\n",
    "df = pd.read_sql(\"SELECT * FROM disaster_categories\", engine)\n",
    "X = df.message.values\n",
    "y = df.iloc[:, 4:].values"
   ]
  },
  {
   "cell_type": "markdown",
   "metadata": {},
   "source": [
    "### 2. Write a tokenization function to process your text data"
   ]
  },
  {
   "cell_type": "code",
   "execution_count": 3,
   "metadata": {},
   "outputs": [],
   "source": [
    "def tokenize(text):\n",
    "    tokens = word_tokenize(text)\n",
    "    lemmatizer = WordNetLemmatizer()\n",
    "    clean_tokens = []\n",
    "    \n",
    "    for tok in tokens:\n",
    "        clean_tok = lemmatizer.lemmatize(tok).lower().strip()\n",
    "        clean_tokens.append(clean_tok)\n",
    "\n",
    "    return clean_tokens"
   ]
  },
  {
   "cell_type": "markdown",
   "metadata": {},
   "source": [
    "### 3. Build a machine learning pipeline\n",
    "This machine pipeline should take in the `message` column as input and output classification results on the other 36 categories in the dataset. You may find the [MultiOutputClassifier](http://scikit-learn.org/stable/modules/generated/sklearn.multioutput.MultiOutputClassifier.html) helpful for predicting multiple target variables."
   ]
  },
  {
   "cell_type": "code",
   "execution_count": 4,
   "metadata": {},
   "outputs": [],
   "source": [
    "pipeline = Pipeline([\n",
    "    ('features', FeatureUnion([\n",
    "\n",
    "        ('text_pipeline', Pipeline([\n",
    "            ('vect', CountVectorizer(tokenizer=tokenize)),\n",
    "            ('tfidf', TfidfTransformer())\n",
    "        ]))\n",
    "    ])),\n",
    "    ('clf', MultiOutputClassifier(RandomForestClassifier()))\n",
    "])"
   ]
  },
  {
   "cell_type": "markdown",
   "metadata": {},
   "source": [
    "### 4. Train pipeline\n",
    "- Split data into train and test sets\n",
    "- Train pipeline"
   ]
  },
  {
   "cell_type": "code",
   "execution_count": 6,
   "metadata": {},
   "outputs": [
    {
     "data": {
      "text/plain": [
       "Pipeline(memory=None,\n",
       "     steps=[('features', FeatureUnion(n_jobs=1,\n",
       "       transformer_list=[('text_pipeline', Pipeline(memory=None,\n",
       "     steps=[('vect', CountVectorizer(analyzer='word', binary=False, decode_error='strict',\n",
       "        dtype=<class 'numpy.int64'>, encoding='utf-8', input='content',\n",
       "        lowercase=True, max_d...oob_score=False, random_state=None, verbose=0,\n",
       "            warm_start=False),\n",
       "           n_jobs=1))])"
      ]
     },
     "execution_count": 6,
     "metadata": {},
     "output_type": "execute_result"
    }
   ],
   "source": [
    "X_train, X_test, y_train, y_test = train_test_split(X, y)\n",
    "pipeline.fit(X_train, y_train)"
   ]
  },
  {
   "cell_type": "markdown",
   "metadata": {},
   "source": [
    "### 5. Test your model\n",
    "Report the f1 score, precision and recall for each output category of the dataset. You can do this by iterating through the columns and calling sklearn's `classification_report` on each."
   ]
  },
  {
   "cell_type": "code",
   "execution_count": 7,
   "metadata": {},
   "outputs": [],
   "source": [
    "y_pred = pipeline.predict(X_test)"
   ]
  },
  {
   "cell_type": "code",
   "execution_count": 8,
   "metadata": {},
   "outputs": [
    {
     "data": {
      "text/plain": [
       "0.81341687041564792"
      ]
     },
     "execution_count": 8,
     "metadata": {},
     "output_type": "execute_result"
    }
   ],
   "source": [
    "pipeline.score(X_train, y_train)"
   ]
  },
  {
   "cell_type": "code",
   "execution_count": 9,
   "metadata": {},
   "outputs": [
    {
     "name": "stdout",
     "output_type": "stream",
     "text": [
      "Accuracy: 0.942067736185\n"
     ]
    }
   ],
   "source": [
    "accuracy = (y_pred == y_test).mean()\n",
    "print(\"Accuracy:\", accuracy)"
   ]
  },
  {
   "cell_type": "code",
   "execution_count": 10,
   "metadata": {
    "scrolled": true
   },
   "outputs": [
    {
     "name": "stdout",
     "output_type": "stream",
     "text": [
      "Category: 1              precision    recall  f1-score   support\n",
      "\n",
      "          0       0.62      0.37      0.46      1540\n",
      "          1       0.82      0.93      0.87      4962\n",
      "          2       0.75      0.14      0.24        43\n",
      "\n",
      "avg / total       0.77      0.79      0.77      6545\n",
      "\n",
      "Category: 2              precision    recall  f1-score   support\n",
      "\n",
      "          0       0.88      0.98      0.93      5405\n",
      "          1       0.83      0.39      0.53      1140\n",
      "\n",
      "avg / total       0.88      0.88      0.86      6545\n",
      "\n",
      "Category: 3              precision    recall  f1-score   support\n",
      "\n",
      "          0       1.00      1.00      1.00      6521\n",
      "          1       0.00      0.00      0.00        24\n",
      "\n",
      "avg / total       0.99      1.00      0.99      6545\n",
      "\n",
      "Category: 4              precision    recall  f1-score   support\n",
      "\n",
      "          0       0.73      0.89      0.80      3857\n",
      "          1       0.77      0.53      0.63      2688\n",
      "\n",
      "avg / total       0.75      0.74      0.73      6545\n",
      "\n",
      "Category: 5              precision    recall  f1-score   support\n",
      "\n",
      "          0       0.92      1.00      0.96      6020\n",
      "          1       0.67      0.07      0.12       525\n",
      "\n",
      "avg / total       0.90      0.92      0.89      6545\n",
      "\n",
      "Category: 6              precision    recall  f1-score   support\n",
      "\n",
      "          0       0.96      1.00      0.98      6235\n",
      "          1       0.79      0.07      0.13       310\n",
      "\n",
      "avg / total       0.95      0.96      0.94      6545\n",
      "\n",
      "Category: 7              precision    recall  f1-score   support\n",
      "\n",
      "          0       0.98      1.00      0.99      6363\n",
      "          1       0.61      0.12      0.20       182\n",
      "\n",
      "avg / total       0.97      0.97      0.96      6545\n",
      "\n",
      "Category: 8              precision    recall  f1-score   support\n",
      "\n",
      "          0       0.98      1.00      0.99      6437\n",
      "          1       0.25      0.01      0.02       108\n",
      "\n",
      "avg / total       0.97      0.98      0.98      6545\n",
      "\n",
      "Category: 9              precision    recall  f1-score   support\n",
      "\n",
      "          0       0.97      1.00      0.98      6336\n",
      "          1       0.88      0.03      0.06       209\n",
      "\n",
      "avg / total       0.97      0.97      0.95      6545\n",
      "\n",
      "Category: 10              precision    recall  f1-score   support\n",
      "\n",
      "          0       1.00      1.00      1.00      6545\n",
      "\n",
      "avg / total       1.00      1.00      1.00      6545\n",
      "\n",
      "Category: 11              precision    recall  f1-score   support\n",
      "\n",
      "          0       0.95      1.00      0.97      6132\n",
      "          1       0.80      0.19      0.30       413\n",
      "\n",
      "avg / total       0.94      0.95      0.93      6545\n",
      "\n",
      "Category: 12              precision    recall  f1-score   support\n",
      "\n",
      "          0       0.93      0.99      0.96      5844\n",
      "          1       0.84      0.36      0.50       701\n",
      "\n",
      "avg / total       0.92      0.92      0.91      6545\n",
      "\n",
      "Category: 13              precision    recall  f1-score   support\n",
      "\n",
      "          0       0.93      1.00      0.96      5965\n",
      "          1       0.87      0.24      0.38       580\n",
      "\n",
      "avg / total       0.93      0.93      0.91      6545\n",
      "\n",
      "Category: 14              precision    recall  f1-score   support\n",
      "\n",
      "          0       0.99      1.00      0.99      6445\n",
      "          1       0.67      0.02      0.04       100\n",
      "\n",
      "avg / total       0.98      0.98      0.98      6545\n",
      "\n",
      "Category: 15              precision    recall  f1-score   support\n",
      "\n",
      "          0       0.98      1.00      0.99      6384\n",
      "          1       1.00      0.01      0.01       161\n",
      "\n",
      "avg / total       0.98      0.98      0.96      6545\n",
      "\n",
      "Category: 16              precision    recall  f1-score   support\n",
      "\n",
      "          0       0.99      1.00      0.99      6468\n",
      "          1       1.00      0.04      0.08        77\n",
      "\n",
      "avg / total       0.99      0.99      0.98      6545\n",
      "\n",
      "Category: 17              precision    recall  f1-score   support\n",
      "\n",
      "          0       0.97      1.00      0.98      6337\n",
      "          1       0.60      0.01      0.03       208\n",
      "\n",
      "avg / total       0.96      0.97      0.95      6545\n",
      "\n",
      "Category: 18              precision    recall  f1-score   support\n",
      "\n",
      "          0       0.96      1.00      0.98      6229\n",
      "          1       0.79      0.07      0.13       316\n",
      "\n",
      "avg / total       0.95      0.95      0.94      6545\n",
      "\n"
     ]
    },
    {
     "name": "stderr",
     "output_type": "stream",
     "text": [
      "/opt/conda/lib/python3.6/site-packages/sklearn/metrics/classification.py:1135: UndefinedMetricWarning: Precision and F-score are ill-defined and being set to 0.0 in labels with no predicted samples.\n",
      "  'precision', 'predicted', average, warn_for)\n"
     ]
    },
    {
     "name": "stdout",
     "output_type": "stream",
     "text": [
      "Category: 19              precision    recall  f1-score   support\n",
      "\n",
      "          0       0.87      1.00      0.93      5667\n",
      "          1       0.49      0.03      0.05       878\n",
      "\n",
      "avg / total       0.82      0.87      0.81      6545\n",
      "\n",
      "Category: 20              precision    recall  f1-score   support\n",
      "\n",
      "          0       0.93      1.00      0.97      6111\n",
      "          1       0.00      0.00      0.00       434\n",
      "\n",
      "avg / total       0.87      0.93      0.90      6545\n",
      "\n",
      "Category: 21              precision    recall  f1-score   support\n",
      "\n",
      "          0       0.96      1.00      0.98      6263\n",
      "          1       0.62      0.07      0.13       282\n",
      "\n",
      "avg / total       0.95      0.96      0.94      6545\n",
      "\n",
      "Category: 22              precision    recall  f1-score   support\n",
      "\n",
      "          0       0.95      1.00      0.98      6214\n",
      "          1       0.76      0.09      0.16       331\n",
      "\n",
      "avg / total       0.94      0.95      0.93      6545\n",
      "\n",
      "Category: 23              precision    recall  f1-score   support\n",
      "\n",
      "          0       0.98      1.00      0.99      6403\n",
      "          1       0.60      0.02      0.04       142\n",
      "\n",
      "avg / total       0.97      0.98      0.97      6545\n",
      "\n",
      "Category: 24              precision    recall  f1-score   support\n",
      "\n",
      "          0       0.99      1.00      1.00      6505\n",
      "          1       0.00      0.00      0.00        40\n",
      "\n",
      "avg / total       0.99      0.99      0.99      6545\n",
      "\n",
      "Category: 25              precision    recall  f1-score   support\n",
      "\n",
      "          0       0.99      1.00      1.00      6481\n",
      "          1       0.00      0.00      0.00        64\n",
      "\n",
      "avg / total       0.98      0.99      0.99      6545\n",
      "\n",
      "Category: 26              precision    recall  f1-score   support\n",
      "\n",
      "          0       1.00      1.00      1.00      6518\n",
      "          1       0.00      0.00      0.00        27\n",
      "\n",
      "avg / total       0.99      1.00      0.99      6545\n",
      "\n",
      "Category: 27              precision    recall  f1-score   support\n",
      "\n",
      "          0       0.99      1.00      0.99      6466\n",
      "          1       0.00      0.00      0.00        79\n",
      "\n",
      "avg / total       0.98      0.99      0.98      6545\n",
      "\n",
      "Category: 28              precision    recall  f1-score   support\n",
      "\n",
      "          0       0.95      1.00      0.98      6245\n",
      "          1       0.33      0.00      0.01       300\n",
      "\n",
      "avg / total       0.93      0.95      0.93      6545\n",
      "\n",
      "Category: 29              precision    recall  f1-score   support\n",
      "\n",
      "          0       0.83      0.96      0.89      4684\n",
      "          1       0.84      0.49      0.62      1861\n",
      "\n",
      "avg / total       0.83      0.83      0.81      6545\n",
      "\n",
      "Category: 30              precision    recall  f1-score   support\n",
      "\n",
      "          0       0.93      1.00      0.96      6008\n",
      "          1       0.91      0.20      0.33       537\n",
      "\n",
      "avg / total       0.93      0.93      0.91      6545\n",
      "\n",
      "Category: 31              precision    recall  f1-score   support\n",
      "\n",
      "          0       0.93      0.99      0.96      5917\n",
      "          1       0.79      0.34      0.47       628\n",
      "\n",
      "avg / total       0.92      0.93      0.91      6545\n",
      "\n",
      "Category: 32              precision    recall  f1-score   support\n",
      "\n",
      "          0       0.99      1.00      0.99      6467\n",
      "          1       0.50      0.01      0.03        78\n",
      "\n",
      "avg / total       0.98      0.99      0.98      6545\n",
      "\n",
      "Category: 33              precision    recall  f1-score   support\n",
      "\n",
      "          0       0.96      0.99      0.98      5898\n",
      "          1       0.91      0.62      0.74       647\n",
      "\n",
      "avg / total       0.96      0.96      0.95      6545\n",
      "\n",
      "Category: 34              precision    recall  f1-score   support\n",
      "\n",
      "          0       0.98      1.00      0.99      6403\n",
      "          1       0.75      0.08      0.15       142\n",
      "\n",
      "avg / total       0.98      0.98      0.97      6545\n",
      "\n",
      "Category: 35              precision    recall  f1-score   support\n",
      "\n",
      "          0       0.95      1.00      0.97      6218\n",
      "          1       0.64      0.04      0.08       327\n",
      "\n",
      "avg / total       0.94      0.95      0.93      6545\n",
      "\n",
      "Category: 36              precision    recall  f1-score   support\n",
      "\n",
      "          0       0.86      0.98      0.92      5273\n",
      "          1       0.81      0.33      0.47      1272\n",
      "\n",
      "avg / total       0.85      0.85      0.83      6545\n",
      "\n"
     ]
    }
   ],
   "source": [
    "for i in range(0,36):\n",
    "    print(\"Category: \"+str(i+1), classification_report([row[i] for row in y_test], [row[i] for row in y_pred]))"
   ]
  },
  {
   "cell_type": "markdown",
   "metadata": {},
   "source": [
    "### 6. Improve your model\n",
    "Use grid search to find better parameters. "
   ]
  },
  {
   "cell_type": "code",
   "execution_count": 11,
   "metadata": {},
   "outputs": [
    {
     "data": {
      "text/plain": [
       "dict_keys(['estimator__bootstrap', 'estimator__class_weight', 'estimator__criterion', 'estimator__max_depth', 'estimator__max_features', 'estimator__max_leaf_nodes', 'estimator__min_impurity_decrease', 'estimator__min_impurity_split', 'estimator__min_samples_leaf', 'estimator__min_samples_split', 'estimator__min_weight_fraction_leaf', 'estimator__n_estimators', 'estimator__n_jobs', 'estimator__oob_score', 'estimator__random_state', 'estimator__verbose', 'estimator__warm_start', 'estimator', 'n_jobs'])"
      ]
     },
     "execution_count": 11,
     "metadata": {},
     "output_type": "execute_result"
    }
   ],
   "source": [
    "MultiOutputClassifier(RandomForestClassifier()).get_params().keys()"
   ]
  },
  {
   "cell_type": "code",
   "execution_count": 12,
   "metadata": {},
   "outputs": [],
   "source": [
    "parameters = {\n",
    "        'clf__estimator__n_estimators': [100, 200],\n",
    "        'clf__estimator__criterion': ['gini', 'entropy']\n",
    "    }\n",
    "\n",
    "cv = GridSearchCV(pipeline, param_grid=parameters)"
   ]
  },
  {
   "cell_type": "markdown",
   "metadata": {},
   "source": [
    "### 7. Test your model\n",
    "Show the accuracy, precision, and recall of the tuned model.  \n",
    "\n",
    "Since this project focuses on code quality, process, and  pipelines, there is no minimum performance metric needed to pass. However, make sure to fine tune your models for accuracy, precision and recall to make your project stand out - especially for your portfolio!"
   ]
  },
  {
   "cell_type": "code",
   "execution_count": 13,
   "metadata": {},
   "outputs": [
    {
     "data": {
      "text/plain": [
       "GridSearchCV(cv=None, error_score='raise',\n",
       "       estimator=Pipeline(memory=None,\n",
       "     steps=[('features', FeatureUnion(n_jobs=1,\n",
       "       transformer_list=[('text_pipeline', Pipeline(memory=None,\n",
       "     steps=[('vect', CountVectorizer(analyzer='word', binary=False, decode_error='strict',\n",
       "        dtype=<class 'numpy.int64'>, encoding='utf-8', input='content',\n",
       "        lowercase=True, max_d...oob_score=False, random_state=None, verbose=0,\n",
       "            warm_start=False),\n",
       "           n_jobs=1))]),\n",
       "       fit_params=None, iid=True, n_jobs=1,\n",
       "       param_grid={'clf__estimator__n_estimators': [100, 200, 500], 'clf__estimator__criterion': ['gini', 'entropy']},\n",
       "       pre_dispatch='2*n_jobs', refit=True, return_train_score='warn',\n",
       "       scoring=None, verbose=0)"
      ]
     },
     "execution_count": 13,
     "metadata": {},
     "output_type": "execute_result"
    }
   ],
   "source": [
    "cv.fit(X_train, y_train)"
   ]
  },
  {
   "cell_type": "code",
   "execution_count": 14,
   "metadata": {},
   "outputs": [
    {
     "data": {
      "text/plain": [
       "{'clf__estimator__criterion': 'gini', 'clf__estimator__n_estimators': 200}"
      ]
     },
     "execution_count": 14,
     "metadata": {},
     "output_type": "execute_result"
    }
   ],
   "source": [
    "cv.best_params_"
   ]
  },
  {
   "cell_type": "code",
   "execution_count": 15,
   "metadata": {},
   "outputs": [
    {
     "data": {
      "text/plain": [
       "0.99933781581092096"
      ]
     },
     "execution_count": 15,
     "metadata": {},
     "output_type": "execute_result"
    }
   ],
   "source": [
    "cv.score(X_train, y_train)"
   ]
  },
  {
   "cell_type": "code",
   "execution_count": 16,
   "metadata": {},
   "outputs": [
    {
     "name": "stdout",
     "output_type": "stream",
     "text": [
      "Accuracy: 0.946307613955\n"
     ]
    }
   ],
   "source": [
    "y_pred = cv.predict(X_test)\n",
    "accuracy = (y_pred == y_test).mean()\n",
    "print(\"Accuracy:\", accuracy)"
   ]
  },
  {
   "cell_type": "code",
   "execution_count": 17,
   "metadata": {
    "scrolled": true
   },
   "outputs": [
    {
     "name": "stdout",
     "output_type": "stream",
     "text": [
      "Category: 1              precision    recall  f1-score   support\n",
      "\n",
      "          0       0.73      0.26      0.39      1540\n",
      "          1       0.80      0.97      0.88      4962\n",
      "          2       0.75      0.14      0.24        43\n",
      "\n",
      "avg / total       0.79      0.80      0.76      6545\n",
      "\n",
      "Category: 2              precision    recall  f1-score   support\n",
      "\n",
      "          0       0.89      0.99      0.94      5405\n",
      "          1       0.89      0.44      0.59      1140\n",
      "\n",
      "avg / total       0.89      0.89      0.88      6545\n",
      "\n",
      "Category: 3              precision    recall  f1-score   support\n",
      "\n",
      "          0       1.00      1.00      1.00      6521\n",
      "          1       0.00      0.00      0.00        24\n",
      "\n",
      "avg / total       0.99      1.00      0.99      6545\n",
      "\n",
      "Category: 4              precision    recall  f1-score   support\n",
      "\n",
      "          0       0.78      0.89      0.83      3857\n",
      "          1       0.80      0.63      0.70      2688\n",
      "\n",
      "avg / total       0.79      0.78      0.78      6545\n",
      "\n",
      "Category: 5              precision    recall  f1-score   support\n",
      "\n",
      "          0       0.92      1.00      0.96      6020\n",
      "          1       0.72      0.04      0.08       525\n",
      "\n",
      "avg / total       0.91      0.92      0.89      6545\n",
      "\n",
      "Category: 6              precision    recall  f1-score   support\n",
      "\n",
      "          0       0.96      1.00      0.98      6235\n",
      "          1       0.83      0.08      0.14       310\n",
      "\n",
      "avg / total       0.95      0.96      0.94      6545\n",
      "\n",
      "Category: 7              precision    recall  f1-score   support\n",
      "\n",
      "          0       0.97      1.00      0.99      6363\n",
      "          1       0.60      0.03      0.06       182\n",
      "\n",
      "avg / total       0.96      0.97      0.96      6545\n",
      "\n",
      "Category: 8              precision    recall  f1-score   support\n",
      "\n",
      "          0       0.98      1.00      0.99      6437\n",
      "          1       0.50      0.01      0.02       108\n",
      "\n",
      "avg / total       0.98      0.98      0.98      6545\n",
      "\n",
      "Category: 9              precision    recall  f1-score   support\n",
      "\n",
      "          0       0.97      1.00      0.98      6336\n",
      "          1       0.88      0.03      0.06       209\n",
      "\n",
      "avg / total       0.97      0.97      0.95      6545\n",
      "\n",
      "Category: 10              precision    recall  f1-score   support\n",
      "\n",
      "          0       1.00      1.00      1.00      6545\n",
      "\n",
      "avg / total       1.00      1.00      1.00      6545\n",
      "\n",
      "Category: 11              precision    recall  f1-score   support\n",
      "\n",
      "          0       0.95      1.00      0.97      6132\n",
      "          1       0.91      0.27      0.41       413\n",
      "\n",
      "avg / total       0.95      0.95      0.94      6545\n",
      "\n",
      "Category: 12              precision    recall  f1-score   support\n",
      "\n",
      "          0       0.93      0.99      0.96      5844\n",
      "          1       0.89      0.40      0.55       701\n",
      "\n",
      "avg / total       0.93      0.93      0.92      6545\n",
      "\n",
      "Category: 13              precision    recall  f1-score   support\n",
      "\n",
      "          0       0.93      1.00      0.96      5965\n",
      "          1       0.90      0.24      0.38       580\n",
      "\n",
      "avg / total       0.93      0.93      0.91      6545\n",
      "\n",
      "Category: 14              precision    recall  f1-score   support\n",
      "\n",
      "          0       0.99      1.00      0.99      6445\n",
      "          1       0.50      0.04      0.07       100\n",
      "\n",
      "avg / total       0.98      0.98      0.98      6545\n",
      "\n",
      "Category: 15              precision    recall  f1-score   support\n",
      "\n",
      "          0       0.98      1.00      0.99      6384\n",
      "          1       1.00      0.01      0.02       161\n",
      "\n",
      "avg / total       0.98      0.98      0.96      6545\n",
      "\n",
      "Category: 16              precision    recall  f1-score   support\n",
      "\n",
      "          0       0.99      1.00      0.99      6468\n",
      "          1       1.00      0.03      0.05        77\n",
      "\n",
      "avg / total       0.99      0.99      0.98      6545\n",
      "\n",
      "Category: 17              precision    recall  f1-score   support\n",
      "\n",
      "          0       0.97      1.00      0.98      6337\n",
      "          1       0.75      0.01      0.03       208\n",
      "\n",
      "avg / total       0.96      0.97      0.95      6545\n",
      "\n"
     ]
    },
    {
     "name": "stderr",
     "output_type": "stream",
     "text": [
      "/opt/conda/lib/python3.6/site-packages/sklearn/metrics/classification.py:1135: UndefinedMetricWarning: Precision and F-score are ill-defined and being set to 0.0 in labels with no predicted samples.\n",
      "  'precision', 'predicted', average, warn_for)\n"
     ]
    },
    {
     "name": "stdout",
     "output_type": "stream",
     "text": [
      "Category: 18              precision    recall  f1-score   support\n",
      "\n",
      "          0       0.96      1.00      0.98      6229\n",
      "          1       0.79      0.08      0.15       316\n",
      "\n",
      "avg / total       0.95      0.95      0.94      6545\n",
      "\n",
      "Category: 19              precision    recall  f1-score   support\n",
      "\n",
      "          0       0.87      1.00      0.93      5667\n",
      "          1       0.82      0.01      0.02       878\n",
      "\n",
      "avg / total       0.86      0.87      0.81      6545\n",
      "\n",
      "Category: 20              precision    recall  f1-score   support\n",
      "\n",
      "          0       0.93      1.00      0.97      6111\n",
      "          1       1.00      0.00      0.00       434\n",
      "\n",
      "avg / total       0.94      0.93      0.90      6545\n",
      "\n",
      "Category: 21              precision    recall  f1-score   support\n",
      "\n",
      "          0       0.96      1.00      0.98      6263\n",
      "          1       0.81      0.07      0.14       282\n",
      "\n",
      "avg / total       0.95      0.96      0.94      6545\n",
      "\n",
      "Category: 22              precision    recall  f1-score   support\n",
      "\n",
      "          0       0.95      1.00      0.98      6214\n",
      "          1       0.91      0.06      0.12       331\n",
      "\n",
      "avg / total       0.95      0.95      0.93      6545\n",
      "\n",
      "Category: 23              precision    recall  f1-score   support\n",
      "\n",
      "          0       0.98      1.00      0.99      6403\n",
      "          1       0.75      0.02      0.04       142\n",
      "\n",
      "avg / total       0.97      0.98      0.97      6545\n",
      "\n",
      "Category: 24              precision    recall  f1-score   support\n",
      "\n",
      "          0       0.99      1.00      1.00      6505\n",
      "          1       0.00      0.00      0.00        40\n",
      "\n",
      "avg / total       0.99      0.99      0.99      6545\n",
      "\n",
      "Category: 25              precision    recall  f1-score   support\n",
      "\n",
      "          0       0.99      1.00      1.00      6481\n",
      "          1       0.00      0.00      0.00        64\n",
      "\n",
      "avg / total       0.98      0.99      0.99      6545\n",
      "\n",
      "Category: 26              precision    recall  f1-score   support\n",
      "\n",
      "          0       1.00      1.00      1.00      6518\n",
      "          1       0.00      0.00      0.00        27\n",
      "\n",
      "avg / total       0.99      1.00      0.99      6545\n",
      "\n",
      "Category: 27              precision    recall  f1-score   support\n",
      "\n",
      "          0       0.99      1.00      0.99      6466\n",
      "          1       0.00      0.00      0.00        79\n",
      "\n",
      "avg / total       0.98      0.99      0.98      6545\n",
      "\n",
      "Category: 28              precision    recall  f1-score   support\n",
      "\n",
      "          0       0.95      1.00      0.98      6245\n",
      "          1       0.33      0.00      0.01       300\n",
      "\n",
      "avg / total       0.93      0.95      0.93      6545\n",
      "\n",
      "Category: 29              precision    recall  f1-score   support\n",
      "\n",
      "          0       0.86      0.97      0.91      4684\n",
      "          1       0.88      0.61      0.72      1861\n",
      "\n",
      "avg / total       0.87      0.87      0.86      6545\n",
      "\n",
      "Category: 30              precision    recall  f1-score   support\n",
      "\n",
      "          0       0.94      1.00      0.97      6008\n",
      "          1       0.90      0.34      0.49       537\n",
      "\n",
      "avg / total       0.94      0.94      0.93      6545\n",
      "\n",
      "Category: 31              precision    recall  f1-score   support\n",
      "\n",
      "          0       0.94      0.99      0.96      5917\n",
      "          1       0.82      0.38      0.52       628\n",
      "\n",
      "avg / total       0.93      0.93      0.92      6545\n",
      "\n",
      "Category: 32              precision    recall  f1-score   support\n",
      "\n",
      "          0       0.99      1.00      0.99      6467\n",
      "          1       1.00      0.03      0.05        78\n",
      "\n",
      "avg / total       0.99      0.99      0.98      6545\n",
      "\n",
      "Category: 33              precision    recall  f1-score   support\n",
      "\n",
      "          0       0.97      0.99      0.98      5898\n",
      "          1       0.92      0.75      0.82       647\n",
      "\n",
      "avg / total       0.97      0.97      0.97      6545\n",
      "\n",
      "Category: 34              precision    recall  f1-score   support\n",
      "\n",
      "          0       0.98      1.00      0.99      6403\n",
      "          1       0.67      0.06      0.10       142\n",
      "\n",
      "avg / total       0.97      0.98      0.97      6545\n",
      "\n",
      "Category: 35              precision    recall  f1-score   support\n",
      "\n",
      "          0       0.95      1.00      0.97      6218\n",
      "          1       0.67      0.02      0.04       327\n",
      "\n",
      "avg / total       0.94      0.95      0.93      6545\n",
      "\n",
      "Category: 36              precision    recall  f1-score   support\n",
      "\n",
      "          0       0.87      0.99      0.92      5273\n",
      "          1       0.87      0.37      0.52      1272\n",
      "\n",
      "avg / total       0.87      0.87      0.85      6545\n",
      "\n"
     ]
    }
   ],
   "source": [
    "for i in range(0,36):\n",
    "    print(\"Category: \"+str(i+1), classification_report([row[i] for row in y_test], [row[i] for row in y_pred]))"
   ]
  },
  {
   "cell_type": "markdown",
   "metadata": {},
   "source": [
    "### 8. Try improving your model further. Here are a few ideas:\n",
    "* try other machine learning algorithms\n",
    "* add other features besides the TF-IDF"
   ]
  },
  {
   "cell_type": "code",
   "execution_count": 7,
   "metadata": {},
   "outputs": [],
   "source": [
    "from sklearn.neighbors import KNeighborsRegressor"
   ]
  },
  {
   "cell_type": "code",
   "execution_count": 8,
   "metadata": {},
   "outputs": [],
   "source": [
    "new_pipeline = Pipeline([\n",
    "    ('features', FeatureUnion([\n",
    "        ('text_pipeline', Pipeline([\n",
    "            ('vect', CountVectorizer(tokenizer=tokenize)),\n",
    "            ('tfidf', TfidfTransformer())\n",
    "        ]))\n",
    "    ])),\n",
    "    ('clf', MultiOutputClassifier(KNeighborsRegressor()))\n",
    "])"
   ]
  },
  {
   "cell_type": "code",
   "execution_count": 9,
   "metadata": {},
   "outputs": [],
   "source": [
    "parameters = {\n",
    "        'clf__estimator__weights': ['uniform', 'distance'],\n",
    "        'clf__estimator__leaf_size': [30, 40]\n",
    "    }\n",
    "\n",
    "cv_KNN = GridSearchCV(new_pipeline, param_grid=parameters)"
   ]
  },
  {
   "cell_type": "code",
   "execution_count": null,
   "metadata": {},
   "outputs": [],
   "source": [
    "cv_KNN.fit(X_train, y_train)"
   ]
  },
  {
   "cell_type": "code",
   "execution_count": null,
   "metadata": {},
   "outputs": [],
   "source": [
    "cv_SVM.best_params_"
   ]
  },
  {
   "cell_type": "code",
   "execution_count": null,
   "metadata": {},
   "outputs": [],
   "source": [
    "cv_SVM.score(X_train, y_train)"
   ]
  },
  {
   "cell_type": "code",
   "execution_count": null,
   "metadata": {},
   "outputs": [],
   "source": [
    "y_pred = cv_SVM.predict(X_test)\n",
    "accuracy = (y_pred == y_test).mean()\n",
    "print(\"Accuracy:\", accuracy)"
   ]
  },
  {
   "cell_type": "code",
   "execution_count": null,
   "metadata": {},
   "outputs": [],
   "source": [
    "for i in range(0,36):\n",
    "    print(\"Category: \"+str(i+1), classification_report([row[i] for row in y_test], [row[i] for row in y_pred]))"
   ]
  },
  {
   "cell_type": "code",
   "execution_count": null,
   "metadata": {},
   "outputs": [],
   "source": []
  },
  {
   "cell_type": "markdown",
   "metadata": {},
   "source": [
    "### 9. Export your model as a pickle file"
   ]
  },
  {
   "cell_type": "code",
   "execution_count": null,
   "metadata": {},
   "outputs": [],
   "source": [
    "pickle.dump(model, open(filename, 'wb'))"
   ]
  },
  {
   "cell_type": "markdown",
   "metadata": {},
   "source": [
    "### 10. Use this notebook to complete `train.py`\n",
    "Use the template file attached in the Resources folder to write a script that runs the steps above to create a database and export a model based on a new dataset specified by the user."
   ]
  },
  {
   "cell_type": "code",
   "execution_count": null,
   "metadata": {},
   "outputs": [],
   "source": []
  }
 ],
 "metadata": {
  "kernelspec": {
   "display_name": "Python 3",
   "language": "python",
   "name": "python3"
  },
  "language_info": {
   "codemirror_mode": {
    "name": "ipython",
    "version": 3
   },
   "file_extension": ".py",
   "mimetype": "text/x-python",
   "name": "python",
   "nbconvert_exporter": "python",
   "pygments_lexer": "ipython3",
   "version": "3.6.3"
  }
 },
 "nbformat": 4,
 "nbformat_minor": 2
}
